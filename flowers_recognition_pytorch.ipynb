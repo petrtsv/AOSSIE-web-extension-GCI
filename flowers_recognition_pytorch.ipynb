{
  "nbformat": 4,
  "nbformat_minor": 0,
  "metadata": {
    "colab": {
      "name": "flowers-recognition-pytorch.ipynb",
      "version": "0.3.2",
      "provenance": [],
      "collapsed_sections": [],
      "include_colab_link": true
    },
    "kernelspec": {
      "name": "python3",
      "display_name": "Python 3"
    },
    "accelerator": "GPU"
  },
  "cells": [
    {
      "cell_type": "markdown",
      "metadata": {
        "id": "view-in-github",
        "colab_type": "text"
      },
      "source": [
        "<a href=\"https://colab.research.google.com/github/petrtsv/AOSSIE-web-extension-GCI/blob/master/flowers_recognition_pytorch.ipynb\" target=\"_parent\"><img src=\"https://colab.research.google.com/assets/colab-badge.svg\" alt=\"Open In Colab\"/></a>"
      ]
    },
    {
      "cell_type": "code",
      "metadata": {
        "id": "hQcbRSIs8kb2",
        "colab_type": "code",
        "colab": {}
      },
      "source": [
        "%matplotlib inline\n",
        "import torch\n",
        "import torchvision\n",
        "import torchvision.transforms as transforms\n",
        "import torch.utils.data.sampler.SubsetRandomSampler\n",
        "import numpy as np\n",
        "import random\n",
        "\n",
        "\n",
        "torch.manual_seed(666)\n",
        "torch.cuda.manual_seed(666)\n",
        "np.random.seed(666)\n",
        "random.seed(666)"
      ],
      "execution_count": 0,
      "outputs": []
    },
    {
      "cell_type": "code",
      "metadata": {
        "id": "Sx6yJQC9D8kI",
        "colab_type": "code",
        "colab": {
          "base_uri": "https://localhost:8080/",
          "height": 34
        },
        "outputId": "5dc6c0f5-e96e-4889-a069-5cc7cc69e9b9"
      },
      "source": [
        "device = torch.device(\"cuda:0\" if torch.cuda.is_available() else \"cpu\")\n",
        "\n",
        "print(device)"
      ],
      "execution_count": 2,
      "outputs": [
        {
          "output_type": "stream",
          "text": [
            "cuda:0\n"
          ],
          "name": "stdout"
        }
      ]
    },
    {
      "cell_type": "code",
      "metadata": {
        "id": "39_-8x9u_qo-",
        "colab_type": "code",
        "colab": {
          "base_uri": "https://localhost:8080/",
          "height": 34
        },
        "outputId": "cbe3e553-9d93-4c25-ae61-e338d346520f"
      },
      "source": [
        "from google.colab import drive\n",
        "drive.mount('/content/gdrive')"
      ],
      "execution_count": 3,
      "outputs": [
        {
          "output_type": "stream",
          "text": [
            "Drive already mounted at /content/gdrive; to attempt to forcibly remount, call drive.mount(\"/content/gdrive\", force_remount=True).\n"
          ],
          "name": "stdout"
        }
      ]
    },
    {
      "cell_type": "code",
      "metadata": {
        "id": "A_LZhNit_4gG",
        "colab_type": "code",
        "colab": {}
      },
      "source": [
        "ROOT = 'gdrive/My Drive/Colab Notebooks/'"
      ],
      "execution_count": 0,
      "outputs": []
    },
    {
      "cell_type": "code",
      "metadata": {
        "id": "ZDQcNmB78nnQ",
        "colab_type": "code",
        "colab": {}
      },
      "source": [
        "train_transform = transforms.Compose([\n",
        "    transforms.Grayscale(),\n",
        "    transforms.ToTensor(),\n",
        "    transforms.Normalize((0.5, ), (0.5, ))\n",
        "])\n",
        "\n",
        "test_transform = transforms.Compose([\n",
        "    transforms.Grayscale(),\n",
        "    transforms.ToTensor(),\n",
        "    transforms.Normalize((0.5, ), (0.5, ))\n",
        "])\n",
        "\n",
        "train_dataset = torchvision.datasets.ImageFolder(ROOT + \"flowers-data\", \n",
        "                                                 transform=train_transform)\n",
        "test_dataset = torchvision.datasets.ImageFolder(ROOT + \"flowers-data\", \n",
        "                                                transform=test_transform)\n",
        "\n",
        "CLASSES = ['daisy', 'dandelion', 'rose', 'sunflower', 'tulip']"
      ],
      "execution_count": 0,
      "outputs": []
    },
    {
      "cell_type": "code",
      "metadata": {
        "id": "7FXL51QbCukP",
        "colab_type": "code",
        "colab": {
          "base_uri": "https://localhost:8080/",
          "height": 34
        },
        "outputId": "fd8afe86-7821-4a53-d997-96a4416c2447"
      },
      "source": [
        "TEST_SIZE = 0.25\n",
        "\n",
        "num_train = len(train_dataset)\n",
        "indicies = list(range(num_train))\n",
        "split = int(np.floor(num_train * TEST_SIZE))\n",
        "np.random.shuffle(indicies)\n",
        "\n",
        "train_idx, test_idx = indicies[split:], indicies[:split]\n",
        "train_sampler = SubsetRandomSampler(train_idx)\n",
        "test_sampler = SubsetRandomSampler(test_idx)\n",
        "\n",
        "train_loader = torch.utils.data.DataLoader(train_dataset, \n",
        "                                           sampler=train_sampler,\n",
        "                                           batch_size=4,\n",
        "                                           num_workers=2\n",
        "                                          )\n",
        "test_loader = torch.utils.data.DataLoader(test_dataset, \n",
        "                                          sampler=train_sampler,\n",
        "                                          batch_size=4,\n",
        "                                          num_workers=2\n",
        "                                          )"
      ],
      "execution_count": 6,
      "outputs": [
        {
          "output_type": "stream",
          "text": [
            "1080 3243 4323\n"
          ],
          "name": "stdout"
        }
      ]
    }
  ]
}